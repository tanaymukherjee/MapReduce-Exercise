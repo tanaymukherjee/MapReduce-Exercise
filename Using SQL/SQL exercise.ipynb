{
 "cells": [
  {
   "cell_type": "code",
   "execution_count": null,
   "metadata": {},
   "outputs": [],
   "source": [
    "# Python code to demonstrate table creation and insertions with SQL \n",
    "\n",
    "# importing module \n",
    "import sqlite3 \n",
    "\n",
    "# connecting to the database \n",
    "connection = sqlite3.connect(\"myTable.db\") \n",
    "\n",
    "# cursor \n",
    "crsr = connection.cursor() \n",
    "\n",
    "# SQL command to create a table in the database \n",
    "sql_command = \"\"\"CREATE TABLE word (str VARCHAR(20));\"\"\"\n",
    "\n",
    "# execute the statement \n",
    "crsr.execute(sql_command) "
   ]
  },
  {
   "cell_type": "code",
   "execution_count": 28,
   "metadata": {},
   "outputs": [],
   "source": [
    "# SQL command to insert the data in the table \n",
    "sql_command = \"\"\"INSERT INTO word VALUES (\"FooBar\");\"\"\"\n",
    "sql_command = \"\"\"INSERT INTO word VALUES (\"foobar\");\"\"\"\n",
    "sql_command = \"\"\"INSERT INTO word VALUES (\"bookworm\");\"\"\"\n",
    "crsr.execute(sql_command) \n",
    "\n",
    "# To save the changes in the files. Never skip this. \n",
    "# If we skip this, nothing will be saved in the database. \n",
    "connection.commit() "
   ]
  },
  {
   "cell_type": "code",
   "execution_count": 34,
   "metadata": {},
   "outputs": [],
   "source": [
    "# close the connection at the end\n",
    "# connection.close() "
   ]
  },
  {
   "cell_type": "code",
   "execution_count": 30,
   "metadata": {},
   "outputs": [
    {
     "name": "stdout",
     "output_type": "stream",
     "text": [
      "[('FooBar',), ('foobar',), ('bookworm',)]\n"
     ]
    }
   ],
   "source": [
    "# execute the command to fetch all the data from the table emp \n",
    "crsr.execute(\"SELECT * FROM word\")  \n",
    "  \n",
    "# store all the fetched data in the ans variable \n",
    "ans= crsr.fetchall()\n",
    "print(ans)"
   ]
  },
  {
   "cell_type": "code",
   "execution_count": 31,
   "metadata": {},
   "outputs": [
    {
     "name": "stdout",
     "output_type": "stream",
     "text": [
      "[(3,)]\n"
     ]
    }
   ],
   "source": [
    "# Let's check total that have 'oo' in the string. It should return 3 as all records have it.\n",
    "print(crsr.execute(\"SELECT count(*) FROM word WHERE str LIKE '%oo%'\").fetchall())"
   ]
  },
  {
   "cell_type": "code",
   "execution_count": 32,
   "metadata": {},
   "outputs": [
    {
     "name": "stdout",
     "output_type": "stream",
     "text": [
      "[('FooBar', 1)]\n"
     ]
    }
   ],
   "source": [
    "# Let's check the total count and values where we have upper case letter. 'Only FooBar should come up as a result'\n",
    "print(crsr.execute(\"SELECT str, Count(*) FROM word WHERE LOWER(str) != str\").fetchall())"
   ]
  },
  {
   "cell_type": "code",
   "execution_count": 33,
   "metadata": {},
   "outputs": [
    {
     "name": "stdout",
     "output_type": "stream",
     "text": [
      "[(2,)]\n"
     ]
    }
   ],
   "source": [
    "# Let's check the total count where the string starts with 'F'. Only 2 records are true and the count should be 2\n",
    "print(crsr.execute(\"SELECT Count(*) FROM word WHERE str LIKE 'f%' OR str LIKE 'F%' \").fetchall())"
   ]
  },
  {
   "cell_type": "code",
   "execution_count": null,
   "metadata": {},
   "outputs": [],
   "source": []
  }
 ],
 "metadata": {
  "kernelspec": {
   "display_name": "Python 3",
   "language": "python",
   "name": "python3"
  },
  "language_info": {
   "codemirror_mode": {
    "name": "ipython",
    "version": 3
   },
   "file_extension": ".py",
   "mimetype": "text/x-python",
   "name": "python",
   "nbconvert_exporter": "python",
   "pygments_lexer": "ipython3",
   "version": "3.7.3"
  }
 },
 "nbformat": 4,
 "nbformat_minor": 2
}
